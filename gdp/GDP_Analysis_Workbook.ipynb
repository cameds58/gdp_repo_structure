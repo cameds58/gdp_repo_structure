{
 "cells": [
  {
   "cell_type": "markdown",
   "metadata": {},
   "source": [
    "# GDP Analysis"
   ]
  },
  {
   "cell_type": "markdown",
   "metadata": {},
   "source": [
    "Import packages"
   ]
  },
  {
   "cell_type": "code",
   "execution_count": 4,
   "metadata": {},
   "outputs": [
    {
     "ename": "ModuleNotFoundError",
     "evalue": "No module named 'pandas'",
     "output_type": "error",
     "traceback": [
      "\u001b[1;31m---------------------------------------------------------------------------\u001b[0m",
      "\u001b[1;31mModuleNotFoundError\u001b[0m                       Traceback (most recent call last)",
      "Cell \u001b[1;32mIn[4], line 2\u001b[0m\n\u001b[0;32m      1\u001b[0m \u001b[38;5;28;01mimport\u001b[39;00m \u001b[38;5;21;01mcsv\u001b[39;00m\n\u001b[1;32m----> 2\u001b[0m \u001b[38;5;28;01mimport\u001b[39;00m \u001b[38;5;21;01mpandas\u001b[39;00m \u001b[38;5;28;01mas\u001b[39;00m \u001b[38;5;21;01mpd\u001b[39;00m\n\u001b[0;32m      3\u001b[0m \u001b[38;5;28;01mimport\u001b[39;00m \u001b[38;5;21;01mrequests\u001b[39;00m\n\u001b[0;32m      4\u001b[0m \u001b[38;5;28;01mimport\u001b[39;00m \u001b[38;5;21;01mmatplotlib\u001b[39;00m\u001b[38;5;21;01m.\u001b[39;00m\u001b[38;5;21;01mpyplot\u001b[39;00m \u001b[38;5;28;01mas\u001b[39;00m \u001b[38;5;21;01mplt\u001b[39;00m\n",
      "\u001b[1;31mModuleNotFoundError\u001b[0m: No module named 'pandas'"
     ]
    }
   ],
   "source": [
    "import csv\n",
    "import pandas as pd\n",
    "import requests\n",
    "import matplotlib.pyplot as plt\n",
    "from typing import List"
   ]
  },
  {
   "cell_type": "markdown",
   "metadata": {},
   "source": [
    "Import via API"
   ]
  },
  {
   "cell_type": "code",
   "execution_count": null,
   "metadata": {},
   "outputs": [],
   "source": [
    "def load_gdp_by_country(country: str) -> pd.DataFrame:\n",
    "    \"\"\"\n",
    "    Load gdp by country via EODHD API. Free tier user and can only query 20 times a day.\n",
    "    Parameters:\n",
    "    country (str): Country to load.\n",
    "    \n",
    "    Returns:\n",
    "    DataFrame: Loads data as a pandas DataFrame.\n",
    "    \"\"\"\n",
    "    url = f\"https://eodhd.com/api/macro-indicator/{country}?indicator=gdp_current_usd&api_token=65549defed6b89.08154842&fmt=csv\"\n",
    "    data = requests.get(url).text\n",
    "    myreader = csv.reader(data.splitlines())\n",
    "    return pd.DataFrame(myreader)\n",
    "\n",
    "def load_gdp(country_list: List[str]) -> pd.DataFrame:\n",
    "    \"\"\"\n",
    "    Load gdp by country via EODHD API. Free tier user and can only query 20 times a day.\n",
    "    Parameters:\n",
    "    country_list (List[str]): List of countries to load.\n",
    "    \n",
    "    Returns:\n",
    "    DataFrame: Loads data as a pandas DataFrame.\n",
    "    \"\"\"\n",
    "    df_gdp = pd.DataFrame()\n",
    "    for country in country_list:\n",
    "        df_gdp = pd.concat([df_gdp, load_gdp_by_country(country)])\n",
    "    return df_gdp"
   ]
  },
  {
   "cell_type": "markdown",
   "metadata": {},
   "source": [
    "Import via read_csv"
   ]
  },
  {
   "cell_type": "code",
   "execution_count": null,
   "metadata": {},
   "outputs": [],
   "source": [
    "def load_csv(file_path):\n",
    "    \"\"\"\n",
    "    Function to load a CSV file using pandas.\n",
    "    \n",
    "    Parameters:\n",
    "    file_path (str): Path to the CSV file.\n",
    "    \n",
    "    Returns:\n",
    "    DataFrame: Loads data as a pandas DataFrame.\n",
    "    \"\"\"\n",
    "    # Load the CSV file\n",
    "    df = pd.read_csv(file_path)\n",
    "\n",
    "    # For previewing data\n",
    "    # print(df.head())\n",
    "\n",
    "    # return loaded DataFrame\n",
    "    return df"
   ]
  },
  {
   "cell_type": "markdown",
   "metadata": {},
   "source": [
    "Clean data"
   ]
  },
  {
   "cell_type": "code",
   "execution_count": null,
   "metadata": {},
   "outputs": [],
   "source": [
    "def clean_data(df):\n",
    "    \"\"\"\n",
    "    Function to clean the loaded GDP data.\n",
    "    \n",
    "    Parameters:\n",
    "    df (DataFrame): The raw DataFrame loaded from the CSV file.\n",
    "    \n",
    "    Returns:\n",
    "    DataFrame: Cleaned DataFrame, filtered for years 2000-2022.\n",
    "    \"\"\"\n",
    "    # Drop the second row assuming it is blank\n",
    "    df = df.drop(index=0)\n",
    "\n",
    "    # Rename the 'Country' column to 'Country (GDP, current prices)'\n",
    "    df = df.rename(columns={'GDP, current prices (Purchasing power parity; billions of international dollars)': 'Country'})\n",
    "\n",
    "    # Filter columns for the years 2000 to 2022, assuming the year columns exist as actual years\n",
    "    year_columns = [str(year) for year in range(2000, 2023)]\n",
    "    \n",
    "    # Select only the relevant year columns'\n",
    "    country_column = 'Country'\n",
    "    \n",
    "    columns_to_keep = [country_column] + year_columns\n",
    "    df_clean = df[columns_to_keep]\n",
    "\n",
    "    return df_clean"
   ]
  },
  {
   "cell_type": "markdown",
   "metadata": {},
   "source": [
    "Plot data"
   ]
  },
  {
   "cell_type": "code",
   "execution_count": null,
   "metadata": {},
   "outputs": [],
   "source": [
    "def plot_gdp(df_gdp: pd.DataFrame) -> None:\n",
    "    df_gdp = df_gdp.set_index('Country')\n",
    "    df_gdp.T.plot()\n",
    "    plt.ylabel('GDP (current US$)')\n",
    "\n",
    "def plot_gdp_ggplot(df_gdp: pd.DataFrame) -> None:\n",
    "    plt.style.use('ggplot')\n",
    "    df_gdp = df_gdp.set_index('Country')\n",
    "    df_gdp.T.plot(kind='bar')\n",
    "    plt.ylabel('GDP (current US$)')"
   ]
  },
  {
   "cell_type": "markdown",
   "metadata": {},
   "source": [
    "## Qualitative Analysis"
   ]
  },
  {
   "cell_type": "markdown",
   "metadata": {},
   "source": [
    "From 2000 to 2022, the global GDP landscape has seen significant shifts, with the United States and China leading the charge in economic growth. The United States maintained steady and consistent growth, particularly after recovering from the 2008 financial crisis, and has remained the world’s largest economy, with its GDP surpassing 25,000 billion USD by 2022. China, on the other hand, experienced exponential growth, rapidly catching up to the US and becoming a global economic powerhouse. Starting from a lower base, China's aggressive industrialization and development have led its GDP to approach 30,000 billion USD by 2022, making it the most significant economic story of this period.\n",
    "\n",
    "Other countries like Japan and Germany show more stable and moderate growth trends. Japan, struggling with stagnation and demographic issues, saw little GDP growth over these years. Germany, as Europe’s strongest economy, experienced consistent yet unspectacular growth. Meanwhile, emerging economies like Brazil initially showed strong growth but plateaued after 2015 due to political and economic challenges. The United Kingdom displayed moderate growth, particularly after the financial crisis, but recent challenges such as Brexit slowed its progress. Switzerland, being a smaller economy, demonstrated slow and steady growth, maintaining stability but without the dramatic increases seen in larger economies."
   ]
  }
 ],
 "metadata": {
  "kernelspec": {
   "display_name": "loadenv",
   "language": "python",
   "name": "python3"
  },
  "language_info": {
   "codemirror_mode": {
    "name": "ipython",
    "version": 3
   },
   "file_extension": ".py",
   "mimetype": "text/x-python",
   "name": "python",
   "nbconvert_exporter": "python",
   "pygments_lexer": "ipython3",
   "version": "3.12.4"
  }
 },
 "nbformat": 4,
 "nbformat_minor": 2
}
